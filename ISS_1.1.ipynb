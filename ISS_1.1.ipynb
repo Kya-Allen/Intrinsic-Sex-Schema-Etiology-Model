{
 "cells": [
  {
   "cell_type": "code",
   "execution_count": 16,
   "metadata": {},
   "outputs": [],
   "source": [
    "import numpy as np\n",
    "import scipy as sp\n",
    "from scipy import stats\n",
    "import seaborn as sns\n",
    "import pandas as pd\n",
    "import matplotlib as plt"
   ]
  },
  {
   "cell_type": "code",
   "execution_count": 17,
   "metadata": {},
   "outputs": [],
   "source": [
    "# parameters\n",
    "SEX_SCHEMA_THRESHOLD = 1 # at what level of schematic shift will someone present clinically\n",
    "HOMOSEXUALITY_THRESHOLD = 0.75 # at what level of cross-sexual orientation will one identify as homosexual\n",
    "mascfem_loadings = [0.6, 0.95, 0.75, 0.65, 0.3, 0.2, 0.1, 0.3, 0.1, 0.4]"
   ]
  },
  {
   "cell_type": "code",
   "execution_count": 18,
   "metadata": {},
   "outputs": [],
   "source": [
    "class Subject():\n",
    "    def __init__(self):\n",
    "        self.mascfem = 0\n",
    "        self.features = [0, 0, 0, 0, 0, 0, 0, 0, 0, 0]\n",
    "        self.autogynephilia = 0\n",
    "        self.autoandrophilia = 0\n",
    "        self.etii_etiologic = False\n",
    "        self.cross_schematic = False\n",
    "        self.transsexual = False\n",
    "        self.natal_sex = 'None'\n",
    "        self.orientation_label = 'None'\n",
    "        return\n",
    "\n",
    "    def generate_feature(self, index, feature_loading):\n",
    "        term_1 = feature_loading * self.mascfem\n",
    "        error = np.random.randn()\n",
    "        feature = term_1 + error\n",
    "        self.features[index] = feature\n",
    "        return\n",
    "    \n",
    "    def determine_agp(self):\n",
    "        if self.features[0] < -1.25:\n",
    "            self.autogynephilia = 0\n",
    "            return\n",
    "        self.autogynephilia = np.random.exponential(1.75)\n",
    "        return\n",
    "        \n",
    "    def determine_aap(self):\n",
    "        if self.features[0] > 1.25:\n",
    "            self.autoandrophilia = 0\n",
    "            return\n",
    "        self.autoandrophilia = np.random.exponential(1.75)\n",
    "        return\n",
    "    \n",
    "    def to_dict(self):\n",
    "        return {\n",
    "            'natal sex': self.natal_sex,\n",
    "            'trans': self.transsexual,\n",
    "            'orientation': self.features[0],\n",
    "            'orientation label': self.orientation_label,\n",
    "            'agp': self.autogynephilia,\n",
    "            'aap': self.autoandrophilia,\n",
    "            'cross-schematic': self.cross_schematic,\n",
    "            'etii': self.etii_etiologic,\n",
    "            'overall masc-fem': self.mascfem,\n",
    "            'highly_dimorphic': self.features[2],\n",
    "            'kinda_dimorphic': self.features[9],\n",
    "            'barely_dimorphic': self.features[8],\n",
    "\n",
    "        }\n",
    "    \n",
    "class Masc(Subject):\n",
    "    def __init__(self):\n",
    "        super().__init__()\n",
    "        self.natal_sex = 'Male'\n",
    "        self.mascfem = np.random.normal(4, 1.95)\n",
    "\n",
    "        for index, loading in enumerate(mascfem_loadings):\n",
    "            self.generate_feature(index, loading)\n",
    "        self.determine_aap()\n",
    "        self.determine_agp()\n",
    "        self.determine_etii()\n",
    "        self.determine_cross_schema()\n",
    "\n",
    "        if self.features[0] > HOMOSEXUALITY_THRESHOLD: self.orientation_label = 'Straight Male'\n",
    "        elif self.features[0] < -HOMOSEXUALITY_THRESHOLD: self.orientation_label = 'Gay Male'\n",
    "        else: self.orientation_label = 'Bi Male'\n",
    "        return\n",
    "    \n",
    "    def determine_etii(self):\n",
    "        multiplier = 1 + (self.autogynephilia ** self.autogynephilia)\n",
    "        base_rate = 0.00000001\n",
    "        p = base_rate * multiplier\n",
    "        if p > 0.3: p = 0.3\n",
    "        if np.random.binomial(1, p):\n",
    "            self.etii_etiologic = True\n",
    "            self.transsexual = True\n",
    "        return\n",
    "    \n",
    "    def determine_cross_schema(self):\n",
    "        if self.features[1] < -SEX_SCHEMA_THRESHOLD:\n",
    "            self.cross_schematic = True\n",
    "            self.transsexual = True\n",
    "\n",
    "\n",
    "class Fem(Subject):\n",
    "    def __init__(self):\n",
    "        super().__init__()\n",
    "        self.natal_sex = 'Female'\n",
    "        self.mascfem = np.random.normal(-4, 1.95)\n",
    "\n",
    "        for index, loading in enumerate(mascfem_loadings):\n",
    "            self.generate_feature(index, loading)\n",
    "        self.determine_aap()\n",
    "        self.determine_agp()\n",
    "        self.determine_etii()\n",
    "        self.determine_cross_schema()\n",
    "        if self.features[0] > HOMOSEXUALITY_THRESHOLD: self.orientation_label = 'Gay Female'\n",
    "        elif self.features[0] < -HOMOSEXUALITY_THRESHOLD: self.orientation_label = 'Straight Female'\n",
    "        else: self.orientation_label = 'Bi Female'\n",
    "        return\n",
    "    \n",
    "    def determine_etii(self):\n",
    "        multiplier = 1 + (self.autoandrophilia ** self.autoandrophilia)\n",
    "        base_rate = 0.00000001\n",
    "        p = base_rate * multiplier\n",
    "        if p > 0.3: p = 0.3\n",
    "        if np.random.binomial(1, p):\n",
    "            self.etii_etiologic = True\n",
    "            self.transsexual = True\n",
    "        return\n",
    "    \n",
    "    def determine_cross_schema(self):\n",
    "        if self.features[1] > SEX_SCHEMA_THRESHOLD:\n",
    "            self.cross_schematic = True\n",
    "            self.transsexual = True"
   ]
  },
  {
   "cell_type": "code",
   "execution_count": 19,
   "metadata": {},
   "outputs": [],
   "source": [
    "male_sample: list[Subject] = []\n",
    "female_sample: list[Subject] = []\n",
    "\n",
    "for i in range(500000):\n",
    "    male_sample.append(Masc())\n",
    "    female_sample.append(Fem())\n",
    "\n",
    "sample = male_sample + female_sample"
   ]
  },
  {
   "cell_type": "code",
   "execution_count": 20,
   "metadata": {},
   "outputs": [
    {
     "data": {
      "text/html": [
       "<div>\n",
       "<style scoped>\n",
       "    .dataframe tbody tr th:only-of-type {\n",
       "        vertical-align: middle;\n",
       "    }\n",
       "\n",
       "    .dataframe tbody tr th {\n",
       "        vertical-align: top;\n",
       "    }\n",
       "\n",
       "    .dataframe thead th {\n",
       "        text-align: right;\n",
       "    }\n",
       "</style>\n",
       "<table border=\"1\" class=\"dataframe\">\n",
       "  <thead>\n",
       "    <tr style=\"text-align: right;\">\n",
       "      <th></th>\n",
       "      <th>natal sex</th>\n",
       "      <th>trans</th>\n",
       "      <th>orientation</th>\n",
       "      <th>orientation label</th>\n",
       "      <th>agp</th>\n",
       "      <th>aap</th>\n",
       "      <th>cross-schematic</th>\n",
       "      <th>etii</th>\n",
       "      <th>overall masc-fem</th>\n",
       "      <th>highly_dimorphic</th>\n",
       "      <th>kinda_dimorphic</th>\n",
       "      <th>barely_dimorphic</th>\n",
       "    </tr>\n",
       "  </thead>\n",
       "  <tbody>\n",
       "    <tr>\n",
       "      <th>0</th>\n",
       "      <td>Male</td>\n",
       "      <td>False</td>\n",
       "      <td>4.839306</td>\n",
       "      <td>Straight Male</td>\n",
       "      <td>0.817044</td>\n",
       "      <td>0.000000</td>\n",
       "      <td>False</td>\n",
       "      <td>False</td>\n",
       "      <td>9.207760</td>\n",
       "      <td>7.233969</td>\n",
       "      <td>3.842704</td>\n",
       "      <td>0.210296</td>\n",
       "    </tr>\n",
       "    <tr>\n",
       "      <th>1</th>\n",
       "      <td>Male</td>\n",
       "      <td>False</td>\n",
       "      <td>0.484880</td>\n",
       "      <td>Bi Male</td>\n",
       "      <td>0.034276</td>\n",
       "      <td>2.145979</td>\n",
       "      <td>False</td>\n",
       "      <td>False</td>\n",
       "      <td>2.194161</td>\n",
       "      <td>3.233576</td>\n",
       "      <td>0.809919</td>\n",
       "      <td>0.271876</td>\n",
       "    </tr>\n",
       "    <tr>\n",
       "      <th>2</th>\n",
       "      <td>Male</td>\n",
       "      <td>False</td>\n",
       "      <td>0.352372</td>\n",
       "      <td>Bi Male</td>\n",
       "      <td>1.079556</td>\n",
       "      <td>0.078774</td>\n",
       "      <td>False</td>\n",
       "      <td>False</td>\n",
       "      <td>-0.983575</td>\n",
       "      <td>-0.681274</td>\n",
       "      <td>-0.521521</td>\n",
       "      <td>-0.030023</td>\n",
       "    </tr>\n",
       "    <tr>\n",
       "      <th>3</th>\n",
       "      <td>Male</td>\n",
       "      <td>False</td>\n",
       "      <td>2.933454</td>\n",
       "      <td>Straight Male</td>\n",
       "      <td>0.922331</td>\n",
       "      <td>0.000000</td>\n",
       "      <td>False</td>\n",
       "      <td>False</td>\n",
       "      <td>1.663696</td>\n",
       "      <td>2.731953</td>\n",
       "      <td>1.698907</td>\n",
       "      <td>2.076562</td>\n",
       "    </tr>\n",
       "    <tr>\n",
       "      <th>4</th>\n",
       "      <td>Male</td>\n",
       "      <td>False</td>\n",
       "      <td>0.233207</td>\n",
       "      <td>Bi Male</td>\n",
       "      <td>0.203571</td>\n",
       "      <td>0.128154</td>\n",
       "      <td>False</td>\n",
       "      <td>False</td>\n",
       "      <td>2.573017</td>\n",
       "      <td>2.992694</td>\n",
       "      <td>1.692606</td>\n",
       "      <td>0.359536</td>\n",
       "    </tr>\n",
       "    <tr>\n",
       "      <th>...</th>\n",
       "      <td>...</td>\n",
       "      <td>...</td>\n",
       "      <td>...</td>\n",
       "      <td>...</td>\n",
       "      <td>...</td>\n",
       "      <td>...</td>\n",
       "      <td>...</td>\n",
       "      <td>...</td>\n",
       "      <td>...</td>\n",
       "      <td>...</td>\n",
       "      <td>...</td>\n",
       "      <td>...</td>\n",
       "    </tr>\n",
       "    <tr>\n",
       "      <th>999995</th>\n",
       "      <td>Female</td>\n",
       "      <td>False</td>\n",
       "      <td>-3.640829</td>\n",
       "      <td>Straight Female</td>\n",
       "      <td>0.000000</td>\n",
       "      <td>0.646060</td>\n",
       "      <td>False</td>\n",
       "      <td>False</td>\n",
       "      <td>-7.509864</td>\n",
       "      <td>-5.383151</td>\n",
       "      <td>-4.034146</td>\n",
       "      <td>-1.214586</td>\n",
       "    </tr>\n",
       "    <tr>\n",
       "      <th>999996</th>\n",
       "      <td>Female</td>\n",
       "      <td>False</td>\n",
       "      <td>-3.471957</td>\n",
       "      <td>Straight Female</td>\n",
       "      <td>0.000000</td>\n",
       "      <td>4.361323</td>\n",
       "      <td>False</td>\n",
       "      <td>False</td>\n",
       "      <td>-5.794908</td>\n",
       "      <td>-5.836285</td>\n",
       "      <td>-1.467111</td>\n",
       "      <td>0.187060</td>\n",
       "    </tr>\n",
       "    <tr>\n",
       "      <th>999997</th>\n",
       "      <td>Female</td>\n",
       "      <td>False</td>\n",
       "      <td>-3.062085</td>\n",
       "      <td>Straight Female</td>\n",
       "      <td>0.000000</td>\n",
       "      <td>0.444855</td>\n",
       "      <td>False</td>\n",
       "      <td>False</td>\n",
       "      <td>-5.901783</td>\n",
       "      <td>-2.874174</td>\n",
       "      <td>-1.924177</td>\n",
       "      <td>1.501038</td>\n",
       "    </tr>\n",
       "    <tr>\n",
       "      <th>999998</th>\n",
       "      <td>Female</td>\n",
       "      <td>False</td>\n",
       "      <td>-1.390806</td>\n",
       "      <td>Straight Female</td>\n",
       "      <td>0.000000</td>\n",
       "      <td>2.272918</td>\n",
       "      <td>False</td>\n",
       "      <td>False</td>\n",
       "      <td>-1.024120</td>\n",
       "      <td>-2.170749</td>\n",
       "      <td>0.395877</td>\n",
       "      <td>-0.593374</td>\n",
       "    </tr>\n",
       "    <tr>\n",
       "      <th>999999</th>\n",
       "      <td>Female</td>\n",
       "      <td>False</td>\n",
       "      <td>-1.561016</td>\n",
       "      <td>Straight Female</td>\n",
       "      <td>0.000000</td>\n",
       "      <td>2.647599</td>\n",
       "      <td>False</td>\n",
       "      <td>False</td>\n",
       "      <td>-2.906561</td>\n",
       "      <td>-2.124962</td>\n",
       "      <td>-2.017190</td>\n",
       "      <td>-0.136775</td>\n",
       "    </tr>\n",
       "  </tbody>\n",
       "</table>\n",
       "<p>1000000 rows × 12 columns</p>\n",
       "</div>"
      ],
      "text/plain": [
       "       natal sex  trans  orientation orientation label       agp       aap  \\\n",
       "0           Male  False     4.839306     Straight Male  0.817044  0.000000   \n",
       "1           Male  False     0.484880           Bi Male  0.034276  2.145979   \n",
       "2           Male  False     0.352372           Bi Male  1.079556  0.078774   \n",
       "3           Male  False     2.933454     Straight Male  0.922331  0.000000   \n",
       "4           Male  False     0.233207           Bi Male  0.203571  0.128154   \n",
       "...          ...    ...          ...               ...       ...       ...   \n",
       "999995    Female  False    -3.640829   Straight Female  0.000000  0.646060   \n",
       "999996    Female  False    -3.471957   Straight Female  0.000000  4.361323   \n",
       "999997    Female  False    -3.062085   Straight Female  0.000000  0.444855   \n",
       "999998    Female  False    -1.390806   Straight Female  0.000000  2.272918   \n",
       "999999    Female  False    -1.561016   Straight Female  0.000000  2.647599   \n",
       "\n",
       "        cross-schematic   etii  overall masc-fem  highly_dimorphic  \\\n",
       "0                 False  False          9.207760          7.233969   \n",
       "1                 False  False          2.194161          3.233576   \n",
       "2                 False  False         -0.983575         -0.681274   \n",
       "3                 False  False          1.663696          2.731953   \n",
       "4                 False  False          2.573017          2.992694   \n",
       "...                 ...    ...               ...               ...   \n",
       "999995            False  False         -7.509864         -5.383151   \n",
       "999996            False  False         -5.794908         -5.836285   \n",
       "999997            False  False         -5.901783         -2.874174   \n",
       "999998            False  False         -1.024120         -2.170749   \n",
       "999999            False  False         -2.906561         -2.124962   \n",
       "\n",
       "        kinda_dimorphic  barely_dimorphic  \n",
       "0              3.842704          0.210296  \n",
       "1              0.809919          0.271876  \n",
       "2             -0.521521         -0.030023  \n",
       "3              1.698907          2.076562  \n",
       "4              1.692606          0.359536  \n",
       "...                 ...               ...  \n",
       "999995        -4.034146         -1.214586  \n",
       "999996        -1.467111          0.187060  \n",
       "999997        -1.924177          1.501038  \n",
       "999998         0.395877         -0.593374  \n",
       "999999        -2.017190         -0.136775  \n",
       "\n",
       "[1000000 rows x 12 columns]"
      ]
     },
     "execution_count": 20,
     "metadata": {},
     "output_type": "execute_result"
    }
   ],
   "source": [
    "sample_df = pd.DataFrame.from_records([subjects.to_dict() for subjects in sample])\n",
    "sample_df"
   ]
  },
  {
   "cell_type": "code",
   "execution_count": 21,
   "metadata": {},
   "outputs": [
    {
     "name": "stderr",
     "output_type": "stream",
     "text": [
      "C:\\Users\\ka99x\\AppData\\Local\\Temp\\ipykernel_19368\\1456113341.py:1: UserWarning: Boolean Series key will be reindexed to match DataFrame index.\n",
      "  bi_transfems = sample_df[sample_df['trans'] == True][sample_df['natal sex'] == 'Male'][sample_df['orientation'] < HOMOSEXUALITY_THRESHOLD][sample_df['orientation'] > -HOMOSEXUALITY_THRESHOLD]\n",
      "C:\\Users\\ka99x\\AppData\\Local\\Temp\\ipykernel_19368\\1456113341.py:1: UserWarning: Boolean Series key will be reindexed to match DataFrame index.\n",
      "  bi_transfems = sample_df[sample_df['trans'] == True][sample_df['natal sex'] == 'Male'][sample_df['orientation'] < HOMOSEXUALITY_THRESHOLD][sample_df['orientation'] > -HOMOSEXUALITY_THRESHOLD]\n",
      "C:\\Users\\ka99x\\AppData\\Local\\Temp\\ipykernel_19368\\1456113341.py:1: UserWarning: Boolean Series key will be reindexed to match DataFrame index.\n",
      "  bi_transfems = sample_df[sample_df['trans'] == True][sample_df['natal sex'] == 'Male'][sample_df['orientation'] < HOMOSEXUALITY_THRESHOLD][sample_df['orientation'] > -HOMOSEXUALITY_THRESHOLD]\n",
      "C:\\Users\\ka99x\\AppData\\Local\\Temp\\ipykernel_19368\\1456113341.py:3: UserWarning: Boolean Series key will be reindexed to match DataFrame index.\n",
      "  transbians = sample_df[sample_df['trans'] == True][sample_df['natal sex'] == 'Male'][sample_df['orientation'] > HOMOSEXUALITY_THRESHOLD]\n",
      "C:\\Users\\ka99x\\AppData\\Local\\Temp\\ipykernel_19368\\1456113341.py:3: UserWarning: Boolean Series key will be reindexed to match DataFrame index.\n",
      "  transbians = sample_df[sample_df['trans'] == True][sample_df['natal sex'] == 'Male'][sample_df['orientation'] > HOMOSEXUALITY_THRESHOLD]\n",
      "C:\\Users\\ka99x\\AppData\\Local\\Temp\\ipykernel_19368\\1456113341.py:5: UserWarning: Boolean Series key will be reindexed to match DataFrame index.\n",
      "  het_transfems = sample_df[sample_df['trans'] == True][sample_df['natal sex'] == 'Male'][sample_df['orientation'] < -HOMOSEXUALITY_THRESHOLD]\n",
      "C:\\Users\\ka99x\\AppData\\Local\\Temp\\ipykernel_19368\\1456113341.py:5: UserWarning: Boolean Series key will be reindexed to match DataFrame index.\n",
      "  het_transfems = sample_df[sample_df['trans'] == True][sample_df['natal sex'] == 'Male'][sample_df['orientation'] < -HOMOSEXUALITY_THRESHOLD]\n"
     ]
    },
    {
     "data": {
      "text/plain": [
       "(37.789065632936776, 34.51410239272825, 27.696831974334984)"
      ]
     },
     "execution_count": 21,
     "metadata": {},
     "output_type": "execute_result"
    }
   ],
   "source": [
    "bi_transfems = sample_df[sample_df['trans'] == True][sample_df['natal sex'] == 'Male'][sample_df['orientation'] < HOMOSEXUALITY_THRESHOLD][sample_df['orientation'] > -HOMOSEXUALITY_THRESHOLD]\n",
    "\n",
    "transbians = sample_df[sample_df['trans'] == True][sample_df['natal sex'] == 'Male'][sample_df['orientation'] > HOMOSEXUALITY_THRESHOLD]\n",
    "\n",
    "het_transfems = sample_df[sample_df['trans'] == True][sample_df['natal sex'] == 'Male'][sample_df['orientation'] < -HOMOSEXUALITY_THRESHOLD]\n",
    "\n",
    "n = len(bi_transfems) + len(transbians) + len(het_transfems)\n",
    "\n",
    "len(bi_transfems) / n * 100, len(transbians) / n * 100, len(het_transfems) / n * 100, "
   ]
  },
  {
   "cell_type": "code",
   "execution_count": 22,
   "metadata": {},
   "outputs": [
    {
     "data": {
      "text/plain": [
       "(109504, 3388)"
      ]
     },
     "execution_count": 22,
     "metadata": {},
     "output_type": "execute_result"
    }
   ],
   "source": [
    "agps = len(\n",
    "    sample_df[sample_df['agp'] > 3]\n",
    ")\n",
    "\n",
    "etii = len(\n",
    "    sample_df[sample_df['etii'] == True]\n",
    ")\n",
    "\n",
    "agps, etii"
   ]
  },
  {
   "cell_type": "code",
   "execution_count": 23,
   "metadata": {},
   "outputs": [
    {
     "data": {
      "text/plain": [
       "trans\n",
       "False    985307\n",
       "True      14693\n",
       "Name: count, dtype: int64"
      ]
     },
     "execution_count": 23,
     "metadata": {},
     "output_type": "execute_result"
    }
   ],
   "source": [
    "sample_df['trans'].value_counts()"
   ]
  },
  {
   "cell_type": "code",
   "execution_count": 24,
   "metadata": {},
   "outputs": [
    {
     "name": "stderr",
     "output_type": "stream",
     "text": [
      "C:\\Users\\ka99x\\AppData\\Local\\Temp\\ipykernel_19368\\164269148.py:1: UserWarning: Boolean Series key will be reindexed to match DataFrame index.\n",
      "  data = sample_df[sample_df['trans'] == True][sample_df['natal sex'] == 'Male']\n"
     ]
    },
    {
     "data": {
      "text/plain": [
       "<Axes: xlabel='overall masc-fem', ylabel='Count'>"
      ]
     },
     "execution_count": 24,
     "metadata": {},
     "output_type": "execute_result"
    },
    {
     "data": {
      "image/png": "[encoded data removed]",
      "text/plain": [
       "<Figure size 640x480 with 1 Axes>"
      ]
     },
     "metadata": {},
     "output_type": "display_data"
    }
   ],
   "source": [
    "\n",
    "data = sample_df[sample_df['trans'] == True][sample_df['natal sex'] == 'Male']\n",
    "sns.histplot(data, x=data['overall masc-fem'], hue='etii')"
   ]
  },
  {
   "cell_type": "code",
   "execution_count": 25,
   "metadata": {},
   "outputs": [
    {
     "name": "stdout",
     "output_type": "stream",
     "text": [
      "Under the current model the proportion of AGP transbians is 0.569713400464756\n",
      "Under the current model the proportion of AGP sapphic trans women is 0.31244222591976334\n"
     ]
    }
   ],
   "source": [
    "AGP_transbian_proportion = len(transbians[transbians['cross-schematic'] == False]) / len(transbians)\n",
    "AGP_transsapphic_proportion = (len(transbians[transbians['cross-schematic'] == False]) + len(bi_transfems[bi_transfems['cross-schematic'] == False])) / (len(transbians) + len(bi_transfems)) \n",
    "\n",
    "print(f'Under the current model the proportion of AGP transbians is {AGP_transbian_proportion}')\n",
    "print(f'Under the current model the proportion of AGP sapphic trans women is {AGP_transsapphic_proportion}')\n"
   ]
  },
  {
   "cell_type": "code",
   "execution_count": 26,
   "metadata": {},
   "outputs": [
    {
     "data": {
      "text/plain": [
       "<Axes: xlabel='overall masc-fem', ylabel='Count'>"
      ]
     },
     "execution_count": 26,
     "metadata": {},
     "output_type": "execute_result"
    },
    {
     "data": {
      "image/png": "[encoded data removed]",
      "text/plain": [
       "<Figure size 640x480 with 1 Axes>"
      ]
     },
     "metadata": {},
     "output_type": "display_data"
    }
   ],
   "source": [
    "sns.histplot(transbians, x=transbians['overall masc-fem'], hue='etii')\n"
   ]
  },
  {
   "cell_type": "code",
   "execution_count": 27,
   "metadata": {},
   "outputs": [
    {
     "name": "stderr",
     "output_type": "stream",
     "text": [
      "C:\\Users\\ka99x\\AppData\\Local\\Temp\\ipykernel_19368\\12763588.py:1: UserWarning: Boolean Series key will be reindexed to match DataFrame index.\n",
      "  gynephilic_natal_males = sample_df[sample_df['natal sex'] == 'Male'][sample_df['orientation label'] == 'Straight Male']\n"
     ]
    },
    {
     "data": {
      "text/plain": [
       "(np.float64(1.7636277543287726), np.float64(1.0660536140059342))"
      ]
     },
     "execution_count": 27,
     "metadata": {},
     "output_type": "execute_result"
    }
   ],
   "source": [
    "gynephilic_natal_males = sample_df[sample_df['natal sex'] == 'Male'][sample_df['orientation label'] == 'Straight Male']\n",
    "gynephilic_natal_males[gynephilic_natal_males['trans'] == False]['kinda_dimorphic'].mean(), gynephilic_natal_males[gynephilic_natal_males['trans'] == True]['kinda_dimorphic'].mean() \n"
   ]
  },
  {
   "cell_type": "markdown",
   "metadata": {},
   "source": [
    "\"Sexual Orientation in Transgender adults in the United States\" by Reisner et al. is a 2023 study that found the following rates.\n",
    "\n",
    "### In Trans Women\n",
    "\n",
    "* Straight/Heterosexual: 23.3%\n",
    "* Lesbian: 11.3%\n",
    "* Gay: 5.8%\n",
    "* Bisexual: 28.9%\n",
    "* Queer: 5.8%\n",
    "* Same-Gender loving: 4.6%\n",
    "* Other: 6.8%\n",
    "* Asexual Spectrum: 3.6%\n",
    "* Pansexual: 9.9%\n",
    "\n",
    "### this can also be viewed as:\n",
    "\n",
    "* Androphilc: ~25%\n",
    "* gynephilic: ~15%\n",
    "* bisexual: ~40%\n",
    "* Ace: ~4%\n",
    "\n",
    "(this doesn't add up to 100% but i'm dealing with some non-interpretability.)\n",
    "\n",
    "another method. they found:\n",
    "\n",
    "* attracted to cis women: 68%\n",
    "* attracted to cis men: 65%\n",
    "\n",
    "if we assume that anyone not attracted to cis men is either asexual or gynephilic, and\n",
    "if we assume that anyone not attracted to cis women is either asexual or androphilic, then\n",
    "\n",
    "we can deduce that 100 - 68 - 3 = 29% are androsexual, and\n",
    "100 - 65 - 3 = 32% are gynesexual\n",
    "then 100 - 3 - 32 - 29 = 36 are bisexual\n",
    "\n",
    "that would give us:\n",
    "\n",
    "* Androphilic 29%\n",
    "* Gynephilic: 32%\n",
    "* Bisexual: 36%\n",
    "* Asexuals: 3%\n",
    "\n",
    "(this is very similar to what my model generated. Some tweaking can do even better)"
   ]
  },
  {
   "cell_type": "code",
   "execution_count": 28,
   "metadata": {},
   "outputs": [
    {
     "data": {
      "text/plain": [
       "(np.float64(1.0181465837863406), np.float64(-0.4015554620431199))"
      ]
     },
     "execution_count": 28,
     "metadata": {},
     "output_type": "execute_result"
    },
    {
     "data": {
      "image/png": "[encoded data removed]",
      "text/plain": [
       "<Figure size 640x480 with 1 Axes>"
      ]
     },
     "metadata": {},
     "output_type": "display_data"
    }
   ],
   "source": [
    "sns.histplot(sample_df, x=sample_df['barely_dimorphic'], hue='etii')\n",
    "sample_df[sample_df['natal sex'] == 'Male']['barely_dimorphic'].std(), sample_df[sample_df['natal sex'] == 'Female']['barely_dimorphic'].mean()"
   ]
  }
 ],
 "metadata": {
  "kernelspec": {
   "display_name": "env",
   "language": "python",
   "name": "python3"
  },
  "language_info": {
   "codemirror_mode": {
    "name": "ipython",
    "version": 3
   },
   "file_extension": ".py",
   "mimetype": "text/x-python",
   "name": "python",
   "nbconvert_exporter": "python",
   "pygments_lexer": "ipython3",
   "version": "3.12.3"
  }
 },
 "nbformat": 4,
 "nbformat_minor": 2
}
