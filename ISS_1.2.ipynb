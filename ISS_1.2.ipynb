{
 "cells": [
  {
   "cell_type": "code",
   "execution_count": 1,
   "metadata": {},
   "outputs": [],
   "source": [
    "import numpy as np\n",
    "import scipy as sp\n",
    "from scipy import stats\n",
    "import seaborn as sns\n",
    "import pandas as pd\n",
    "import matplotlib as plt"
   ]
  },
  {
   "cell_type": "code",
   "execution_count": 2,
   "metadata": {},
   "outputs": [],
   "source": [
    "# parameters\n",
    "SEX_SCHEMA_THRESHOLD = 1 # at what level of schematic shift will someone present clinically\n",
    "HOMOSEXUALITY_THRESHOLD = 0.75 # at what level of cross-sexual orientation will one identify as homosexual\n",
    "mascfem_loadings = [0.6, 0.95, 0.75, 0.65, 0.3, 0.2, 0.1, 0.3, 0.1, 0.4]"
   ]
  },
  {
   "cell_type": "code",
   "execution_count": 3,
   "metadata": {},
   "outputs": [],
   "source": [
    "class Subject():\n",
    "    def __init__(self):\n",
    "        self.mascfem = 0\n",
    "        self.features = [0, 0, 0, 0, 0, 0, 0, 0, 0, 0]\n",
    "        self.androphilia = 0\n",
    "        self.gynephilia = 0\n",
    "        self.sexual_intensity\n",
    "        self.sexual_spontaneity\n",
    "        self.autogynephilia = 0\n",
    "        self.autoandrophilia = 0\n",
    "        self.etii_etiologic = False\n",
    "        self.cross_schematic = False\n",
    "        self.transsexual = False\n",
    "        self.natal_sex = 'None'\n",
    "        self.orientation_label = 'None'\n",
    "        return\n",
    "\n",
    "    def generate_feature(self, index, feature_loading):\n",
    "        term_1 = feature_loading * self.mascfem\n",
    "        error = np.random.randn()\n",
    "        feature = term_1 + error\n",
    "        self.features[index] = feature\n",
    "        return\n",
    "    \n",
    "    def determine_agp(self):\n",
    "        if self.features[0] < -1.25:\n",
    "            self.autogynephilia = 0\n",
    "            return\n",
    "        self.autogynephilia = np.random.exponential(1.75)\n",
    "        return\n",
    "        \n",
    "    def determine_aap(self):\n",
    "        if self.features[0] > 1.25:\n",
    "            self.autoandrophilia = 0\n",
    "            return\n",
    "        self.autoandrophilia = np.random.exponential(1.75)\n",
    "        return\n",
    "    \n",
    "    def to_dict(self):\n",
    "        return {\n",
    "            'natal sex': self.natal_sex,\n",
    "            'trans': self.transsexual,\n",
    "            'orientation': self.features[0],\n",
    "            'orientation label': self.orientation_label,\n",
    "            'agp': self.autogynephilia,\n",
    "            'aap': self.autoandrophilia,\n",
    "            'cross-schematic': self.cross_schematic,\n",
    "            'etii': self.etii_etiologic,\n",
    "            'overall masc-fem': self.mascfem\n",
    "        }\n",
    "    \n",
    "class Masc(Subject):\n",
    "    def __init__(self):\n",
    "        super().__init__()\n",
    "        self.natal_sex = 'Male'\n",
    "        self.mascfem = np.random.normal(4, 1.95)\n",
    "\n",
    "        for index, loading in enumerate(mascfem_loadings):\n",
    "            self.generate_feature(index, loading)\n",
    "        self.determine_aap()\n",
    "        self.determine_agp()\n",
    "        self.determine_etii()\n",
    "        self.determine_cross_schema()\n",
    "\n",
    "        if self.features[0] > HOMOSEXUALITY_THRESHOLD: self.orientation_label = 'Straight Male'\n",
    "        elif self.features[0] < -HOMOSEXUALITY_THRESHOLD: self.orientation_label = 'Gay Male'\n",
    "        else: self.orientation_label = 'Bi Male'\n",
    "        return\n",
    "    \n",
    "    def determine_etii(self):\n",
    "        multiplier = 1 + (self.autogynephilia ** self.autogynephilia)\n",
    "        base_rate = 0.00000001\n",
    "        p = base_rate * multiplier\n",
    "        if p > 0.3: p = 0.3\n",
    "        if np.random.binomial(1, p):\n",
    "            self.etii_etiologic = True\n",
    "            self.transsexual = True\n",
    "        return\n",
    "    \n",
    "    def determine_cross_schema(self):\n",
    "        if self.features[1] < -SEX_SCHEMA_THRESHOLD:\n",
    "            self.cross_schematic = True\n",
    "            self.transsexual = True\n",
    "\n",
    "    def determine_hsts(self):\n",
    "\n",
    "\n",
    "class Fem(Subject):\n",
    "    def __init__(self):\n",
    "        super().__init__()\n",
    "        self.natal_sex = 'Female'\n",
    "        self.mascfem = np.random.normal(-4, 1.95)\n",
    "\n",
    "        for index, loading in enumerate(mascfem_loadings):\n",
    "            self.generate_feature(index, loading)\n",
    "        self.determine_aap()\n",
    "        self.determine_agp()\n",
    "        self.determine_etii()\n",
    "        self.determine_cross_schema()\n",
    "        if self.features[0] > HOMOSEXUALITY_THRESHOLD: self.orientation_label = 'Gay Female'\n",
    "        elif self.features[0] < -HOMOSEXUALITY_THRESHOLD: self.orientation_label = 'Straight Female'\n",
    "        else: self.orientation_label = 'Bi Female'\n",
    "        return\n",
    "    \n",
    "    def determine_etii(self):\n",
    "        multiplier = 1 + (self.autoandrophilia ** self.autoandrophilia)\n",
    "        base_rate = 0.00000001\n",
    "        p = base_rate * multiplier\n",
    "        if p > 0.3: p = 0.3\n",
    "        if np.random.binomial(1, p):\n",
    "            self.etii_etiologic = True\n",
    "            self.transsexual = True\n",
    "        return\n",
    "    \n",
    "    def determine_cross_schema(self):\n",
    "        if self.features[1] > SEX_SCHEMA_THRESHOLD:\n",
    "            self.cross_schematic = True\n",
    "            self.transsexual = True"
   ]
  },
  {
   "cell_type": "code",
   "execution_count": 4,
   "metadata": {},
   "outputs": [],
   "source": [
    "male_sample: list[Subject] = []\n",
    "female_sample: list[Subject] = []\n",
    "\n",
    "for i in range(500000):\n",
    "    male_sample.append(Masc())\n",
    "    female_sample.append(Fem())\n",
    "\n",
    "sample = male_sample + female_sample"
   ]
  },
  {
   "cell_type": "code",
   "execution_count": 5,
   "metadata": {},
   "outputs": [
    {
     "data": {
      "text/html": [
       "<div>\n",
       "<style scoped>\n",
       "    .dataframe tbody tr th:only-of-type {\n",
       "        vertical-align: middle;\n",
       "    }\n",
       "\n",
       "    .dataframe tbody tr th {\n",
       "        vertical-align: top;\n",
       "    }\n",
       "\n",
       "    .dataframe thead th {\n",
       "        text-align: right;\n",
       "    }\n",
       "</style>\n",
       "<table border=\"1\" class=\"dataframe\">\n",
       "  <thead>\n",
       "    <tr style=\"text-align: right;\">\n",
       "      <th></th>\n",
       "      <th>natal sex</th>\n",
       "      <th>trans</th>\n",
       "      <th>orientation</th>\n",
       "      <th>orientation label</th>\n",
       "      <th>agp</th>\n",
       "      <th>aap</th>\n",
       "      <th>cross-schematic</th>\n",
       "      <th>etii</th>\n",
       "      <th>overall masc-fem</th>\n",
       "    </tr>\n",
       "  </thead>\n",
       "  <tbody>\n",
       "    <tr>\n",
       "      <th>0</th>\n",
       "      <td>Male</td>\n",
       "      <td>False</td>\n",
       "      <td>0.353156</td>\n",
       "      <td>Bi Male</td>\n",
       "      <td>1.712595</td>\n",
       "      <td>0.230892</td>\n",
       "      <td>False</td>\n",
       "      <td>False</td>\n",
       "      <td>4.264887</td>\n",
       "    </tr>\n",
       "    <tr>\n",
       "      <th>1</th>\n",
       "      <td>Male</td>\n",
       "      <td>False</td>\n",
       "      <td>2.980310</td>\n",
       "      <td>Straight Male</td>\n",
       "      <td>3.759367</td>\n",
       "      <td>0.000000</td>\n",
       "      <td>False</td>\n",
       "      <td>False</td>\n",
       "      <td>4.400752</td>\n",
       "    </tr>\n",
       "    <tr>\n",
       "      <th>2</th>\n",
       "      <td>Male</td>\n",
       "      <td>False</td>\n",
       "      <td>3.515265</td>\n",
       "      <td>Straight Male</td>\n",
       "      <td>1.275198</td>\n",
       "      <td>0.000000</td>\n",
       "      <td>False</td>\n",
       "      <td>False</td>\n",
       "      <td>4.447131</td>\n",
       "    </tr>\n",
       "    <tr>\n",
       "      <th>3</th>\n",
       "      <td>Male</td>\n",
       "      <td>False</td>\n",
       "      <td>2.237532</td>\n",
       "      <td>Straight Male</td>\n",
       "      <td>0.272781</td>\n",
       "      <td>0.000000</td>\n",
       "      <td>False</td>\n",
       "      <td>False</td>\n",
       "      <td>5.321357</td>\n",
       "    </tr>\n",
       "    <tr>\n",
       "      <th>4</th>\n",
       "      <td>Male</td>\n",
       "      <td>False</td>\n",
       "      <td>1.490594</td>\n",
       "      <td>Straight Male</td>\n",
       "      <td>0.561642</td>\n",
       "      <td>0.000000</td>\n",
       "      <td>False</td>\n",
       "      <td>False</td>\n",
       "      <td>4.485730</td>\n",
       "    </tr>\n",
       "    <tr>\n",
       "      <th>...</th>\n",
       "      <td>...</td>\n",
       "      <td>...</td>\n",
       "      <td>...</td>\n",
       "      <td>...</td>\n",
       "      <td>...</td>\n",
       "      <td>...</td>\n",
       "      <td>...</td>\n",
       "      <td>...</td>\n",
       "      <td>...</td>\n",
       "    </tr>\n",
       "    <tr>\n",
       "      <th>999995</th>\n",
       "      <td>Female</td>\n",
       "      <td>False</td>\n",
       "      <td>-1.924878</td>\n",
       "      <td>Straight Female</td>\n",
       "      <td>0.000000</td>\n",
       "      <td>0.782980</td>\n",
       "      <td>False</td>\n",
       "      <td>False</td>\n",
       "      <td>-5.266452</td>\n",
       "    </tr>\n",
       "    <tr>\n",
       "      <th>999996</th>\n",
       "      <td>Female</td>\n",
       "      <td>False</td>\n",
       "      <td>-2.667601</td>\n",
       "      <td>Straight Female</td>\n",
       "      <td>0.000000</td>\n",
       "      <td>3.499599</td>\n",
       "      <td>False</td>\n",
       "      <td>False</td>\n",
       "      <td>-4.656650</td>\n",
       "    </tr>\n",
       "    <tr>\n",
       "      <th>999997</th>\n",
       "      <td>Female</td>\n",
       "      <td>False</td>\n",
       "      <td>-2.420347</td>\n",
       "      <td>Straight Female</td>\n",
       "      <td>0.000000</td>\n",
       "      <td>0.586659</td>\n",
       "      <td>False</td>\n",
       "      <td>False</td>\n",
       "      <td>-4.188614</td>\n",
       "    </tr>\n",
       "    <tr>\n",
       "      <th>999998</th>\n",
       "      <td>Female</td>\n",
       "      <td>False</td>\n",
       "      <td>-1.786003</td>\n",
       "      <td>Straight Female</td>\n",
       "      <td>0.000000</td>\n",
       "      <td>2.761430</td>\n",
       "      <td>False</td>\n",
       "      <td>False</td>\n",
       "      <td>-0.868022</td>\n",
       "    </tr>\n",
       "    <tr>\n",
       "      <th>999999</th>\n",
       "      <td>Female</td>\n",
       "      <td>False</td>\n",
       "      <td>-0.428185</td>\n",
       "      <td>Bi Female</td>\n",
       "      <td>0.163881</td>\n",
       "      <td>0.188327</td>\n",
       "      <td>False</td>\n",
       "      <td>False</td>\n",
       "      <td>-2.122719</td>\n",
       "    </tr>\n",
       "  </tbody>\n",
       "</table>\n",
       "<p>1000000 rows × 9 columns</p>\n",
       "</div>"
      ],
      "text/plain": [
       "       natal sex  trans  orientation orientation label       agp       aap  \\\n",
       "0           Male  False     0.353156           Bi Male  1.712595  0.230892   \n",
       "1           Male  False     2.980310     Straight Male  3.759367  0.000000   \n",
       "2           Male  False     3.515265     Straight Male  1.275198  0.000000   \n",
       "3           Male  False     2.237532     Straight Male  0.272781  0.000000   \n",
       "4           Male  False     1.490594     Straight Male  0.561642  0.000000   \n",
       "...          ...    ...          ...               ...       ...       ...   \n",
       "999995    Female  False    -1.924878   Straight Female  0.000000  0.782980   \n",
       "999996    Female  False    -2.667601   Straight Female  0.000000  3.499599   \n",
       "999997    Female  False    -2.420347   Straight Female  0.000000  0.586659   \n",
       "999998    Female  False    -1.786003   Straight Female  0.000000  2.761430   \n",
       "999999    Female  False    -0.428185         Bi Female  0.163881  0.188327   \n",
       "\n",
       "        cross-schematic   etii  overall masc-fem  \n",
       "0                 False  False          4.264887  \n",
       "1                 False  False          4.400752  \n",
       "2                 False  False          4.447131  \n",
       "3                 False  False          5.321357  \n",
       "4                 False  False          4.485730  \n",
       "...                 ...    ...               ...  \n",
       "999995            False  False         -5.266452  \n",
       "999996            False  False         -4.656650  \n",
       "999997            False  False         -4.188614  \n",
       "999998            False  False         -0.868022  \n",
       "999999            False  False         -2.122719  \n",
       "\n",
       "[1000000 rows x 9 columns]"
      ]
     },
     "execution_count": 5,
     "metadata": {},
     "output_type": "execute_result"
    }
   ],
   "source": [
    "sample_df = pd.DataFrame.from_records([subjects.to_dict() for subjects in sample])\n",
    "sample_df"
   ]
  },
  {
   "cell_type": "code",
   "execution_count": 6,
   "metadata": {},
   "outputs": [
    {
     "name": "stderr",
     "output_type": "stream",
     "text": [
      "C:\\Users\\ka99x\\AppData\\Local\\Temp\\ipykernel_22844\\2815132683.py:2: UserWarning: Boolean Series key will be reindexed to match DataFrame index.\n",
      "  sample_df[sample_df['trans'] == True]\n",
      "C:\\Users\\ka99x\\AppData\\Local\\Temp\\ipykernel_22844\\2815132683.py:2: UserWarning: Boolean Series key will be reindexed to match DataFrame index.\n",
      "  sample_df[sample_df['trans'] == True]\n",
      "C:\\Users\\ka99x\\AppData\\Local\\Temp\\ipykernel_22844\\2815132683.py:2: UserWarning: Boolean Series key will be reindexed to match DataFrame index.\n",
      "  sample_df[sample_df['trans'] == True]\n",
      "C:\\Users\\ka99x\\AppData\\Local\\Temp\\ipykernel_22844\\2815132683.py:9: UserWarning: Boolean Series key will be reindexed to match DataFrame index.\n",
      "  sample_df[sample_df['trans'] == True]\n",
      "C:\\Users\\ka99x\\AppData\\Local\\Temp\\ipykernel_22844\\2815132683.py:9: UserWarning: Boolean Series key will be reindexed to match DataFrame index.\n",
      "  sample_df[sample_df['trans'] == True]\n",
      "C:\\Users\\ka99x\\AppData\\Local\\Temp\\ipykernel_22844\\2815132683.py:15: UserWarning: Boolean Series key will be reindexed to match DataFrame index.\n",
      "  sample_df[sample_df['trans'] == True]\n",
      "C:\\Users\\ka99x\\AppData\\Local\\Temp\\ipykernel_22844\\2815132683.py:15: UserWarning: Boolean Series key will be reindexed to match DataFrame index.\n",
      "  sample_df[sample_df['trans'] == True]\n"
     ]
    },
    {
     "data": {
      "text/plain": [
       "(38.9353820825902, 34.80587186170943, 26.25874605570037)"
      ]
     },
     "execution_count": 6,
     "metadata": {},
     "output_type": "execute_result"
    }
   ],
   "source": [
    "bi_transfems = len(\n",
    "    sample_df[sample_df['trans'] == True]\n",
    "    [sample_df['natal sex'] == 'Male']\n",
    "    [sample_df['orientation'] < HOMOSEXUALITY_THRESHOLD]\n",
    "    [sample_df['orientation'] > -HOMOSEXUALITY_THRESHOLD]\n",
    "    )\n",
    "\n",
    "transbians = len(\n",
    "    sample_df[sample_df['trans'] == True]\n",
    "    [sample_df['natal sex'] == 'Male']\n",
    "    [sample_df['orientation'] > HOMOSEXUALITY_THRESHOLD]\n",
    ")\n",
    "\n",
    "het_transfems = len(\n",
    "    sample_df[sample_df['trans'] == True]\n",
    "    [sample_df['natal sex'] == 'Male']\n",
    "    [sample_df['orientation'] < -HOMOSEXUALITY_THRESHOLD]\n",
    ")\n",
    "\n",
    "n = bi_transfems + transbians + het_transfems\n",
    "\n",
    "bi_transfems / n * 100, transbians / n * 100, het_transfems / n * 100, "
   ]
  },
  {
   "cell_type": "code",
   "execution_count": 7,
   "metadata": {},
   "outputs": [
    {
     "data": {
      "text/plain": [
       "(110451, 3395)"
      ]
     },
     "execution_count": 7,
     "metadata": {},
     "output_type": "execute_result"
    }
   ],
   "source": [
    "agps = len(\n",
    "    sample_df[sample_df['agp'] > 3]\n",
    ")\n",
    "\n",
    "etii = len(\n",
    "    sample_df[sample_df['etii'] == True]\n",
    ")\n",
    "\n",
    "agps, etii"
   ]
  },
  {
   "cell_type": "code",
   "execution_count": 8,
   "metadata": {},
   "outputs": [
    {
     "data": {
      "text/plain": [
       "trans\n",
       "False    985285\n",
       "True      14715\n",
       "Name: count, dtype: int64"
      ]
     },
     "execution_count": 8,
     "metadata": {},
     "output_type": "execute_result"
    }
   ],
   "source": [
    "sample_df['trans'].value_counts()"
   ]
  },
  {
   "cell_type": "code",
   "execution_count": 13,
   "metadata": {},
   "outputs": [
    {
     "name": "stderr",
     "output_type": "stream",
     "text": [
      "C:\\Users\\ka99x\\AppData\\Local\\Temp\\ipykernel_22844\\164269148.py:1: UserWarning: Boolean Series key will be reindexed to match DataFrame index.\n",
      "  data = sample_df[sample_df['trans'] == True][sample_df['natal sex'] == 'Male']\n"
     ]
    },
    {
     "data": {
      "text/plain": [
       "<Axes: xlabel='overall masc-fem', ylabel='Count'>"
      ]
     },
     "execution_count": 13,
     "metadata": {},
     "output_type": "execute_result"
    },
    {
     "data": {
      "image/png": "[encoded data removed]",
      "text/plain": [
       "<Figure size 640x480 with 1 Axes>"
      ]
     },
     "metadata": {},
     "output_type": "display_data"
    }
   ],
   "source": [
    "\n",
    "data = sample_df[sample_df['trans'] == True][sample_df['natal sex'] == 'Male']\n",
    "sns.histplot(data, x=data['overall masc-fem'], hue='etii')"
   ]
  },
  {
   "cell_type": "code",
   "execution_count": 10,
   "metadata": {},
   "outputs": [
    {
     "name": "stderr",
     "output_type": "stream",
     "text": [
      "C:\\Users\\ka99x\\AppData\\Local\\Temp\\ipykernel_22844\\3404279686.py:1: UserWarning: Boolean Series key will be reindexed to match DataFrame index.\n",
      "  transbians = sample_df[sample_df['trans'] == True][sample_df['natal sex'] == 'Male'][sample_df['orientation label'] == 'Straight Male']\n",
      "C:\\Users\\ka99x\\AppData\\Local\\Temp\\ipykernel_22844\\3404279686.py:1: UserWarning: Boolean Series key will be reindexed to match DataFrame index.\n",
      "  transbians = sample_df[sample_df['trans'] == True][sample_df['natal sex'] == 'Male'][sample_df['orientation label'] == 'Straight Male']\n"
     ]
    },
    {
     "data": {
      "text/plain": [
       "np.float64(2.64907108550787)"
      ]
     },
     "execution_count": 10,
     "metadata": {},
     "output_type": "execute_result"
    }
   ],
   "source": [
    "transbians = sample_df[sample_df['trans'] == True][sample_df['natal sex'] == 'Male'][sample_df['orientation label'] == 'Straight Male']\n",
    "transbians['overall masc-fem'].mean()"
   ]
  },
  {
   "cell_type": "code",
   "execution_count": 14,
   "metadata": {},
   "outputs": [
    {
     "data": {
      "text/plain": [
       "<Axes: xlabel='overall masc-fem', ylabel='Count'>"
      ]
     },
     "execution_count": 14,
     "metadata": {},
     "output_type": "execute_result"
    },
    {
     "data": {
      "image/png": "[encoded data removed]",
      "text/plain": [
       "<Figure size 640x480 with 1 Axes>"
      ]
     },
     "metadata": {},
     "output_type": "display_data"
    }
   ],
   "source": [
    "sns.histplot(transbians, x=transbians['overall masc-fem'], hue='etii')\n"
   ]
  },
  {
   "cell_type": "code",
   "execution_count": 273,
   "metadata": {},
   "outputs": [
    {
     "name": "stderr",
     "output_type": "stream",
     "text": [
      "C:\\Users\\ka99x\\AppData\\Local\\Temp\\ipykernel_13832\\2090365486.py:1: UserWarning: Boolean Series key will be reindexed to match DataFrame index.\n",
      "  gynephilic_natal_males = sample_df[sample_df['natal sex'] == 'Male'][sample_df['orientation label'] == 'Straight Male']\n"
     ]
    },
    {
     "data": {
      "text/plain": [
       "(np.float64(4.396938827097633), np.float64(2.650368191524518))"
      ]
     },
     "execution_count": 273,
     "metadata": {},
     "output_type": "execute_result"
    }
   ],
   "source": [
    "gynephilic_natal_males = sample_df[sample_df['natal sex'] == 'Male'][sample_df['orientation label'] == 'Straight Male']\n",
    "gynephilic_natal_males[gynephilic_natal_males['trans'] == False]['overall masc-fem'].mean(), gynephilic_natal_males[gynephilic_natal_males['trans'] == True]['overall masc-fem'].mean() \n"
   ]
  },
  {
   "cell_type": "markdown",
   "metadata": {},
   "source": [
    "\"Sexual Orientation in Transgender adults in the United States\" by Reisner et al. is a 2023 study that found the following rates.\n",
    "\n",
    "### In Trans Women\n",
    "\n",
    "* Straight/Heterosexual: 23.3%\n",
    "* Lesbian: 11.3%\n",
    "* Gay: 5.8%\n",
    "* Bisexual: 28.9%\n",
    "* Queer: 5.8%\n",
    "* Same-Gender loving: 4.6%\n",
    "* Other: 6.8%\n",
    "* Asexual Spectrum: 3.6%\n",
    "* Pansexual: 9.9%\n",
    "\n",
    "### this can also be viewed as:\n",
    "\n",
    "* Androphilc: ~25%\n",
    "* gynephilic: ~15%\n",
    "* bisexual: ~40%\n",
    "* Ace: ~4%\n",
    "\n",
    "(this doesn't add up to 100% but i'm dealing with some non-interpretability.)\n",
    "\n",
    "another method. they found:\n",
    "\n",
    "* attracted to cis women: 68%\n",
    "* attracted to cis men: 65%\n",
    "\n",
    "if we assume that anyone not attracted to cis men is either asexual or gynephilic, and\n",
    "if we assume that anyone not attracted to cis women is either asexual or androphilic, then\n",
    "\n",
    "we can deduce that 100 - 68 - 3 = 29% are androsexual, and\n",
    "100 - 65 - 3 = 32% are gynesexual\n",
    "then 100 - 3 - 32 - 29 = 36 are bisexual\n",
    "\n",
    "that would give us:\n",
    "\n",
    "* Androphilic 29%\n",
    "* Gynephilic: 32%\n",
    "* Bisexual: 36%\n",
    "* Asexuals: 3%\n",
    "\n",
    "(this is very similar to what my model generated. Some tweaking can do even better)"
   ]
  },
  {
   "cell_type": "code",
   "execution_count": 238,
   "metadata": {},
   "outputs": [
    {
     "data": {
      "text/plain": [
       "<Axes: ylabel='Count'>"
      ]
     },
     "execution_count": 238,
     "metadata": {},
     "output_type": "execute_result"
    },
    {
     "data": {
      "image/png": "[encoded data removed]",
      "text/plain": [
       "<Figure size 640x480 with 1 Axes>"
      ]
     },
     "metadata": {},
     "output_type": "display_data"
    }
   ],
   "source": [
    "pansexuals = [3,3,3,3,3,3,3,2,4,2] + [3,3,3,3,3,3,3,2,4,2] + [3,3,3,3,3,3,3,2,4,2] + [3,3,3,3,3,3,3,2,4,2] + [3,3,3,3,3,3,3,2,4,2]\n",
    "bisexuals = [3,3,3,3,3,3,3,3,4,4,4,4,4,4,4,4,4,4,4,4,2,2,2,2,2,2,2,2,3,3] + [3,3,3,3,3,3,3,3,4,4,4,4,4,4,4,4,4,4,4,4,2,2,2,2,2,2,2,2,3,3] + [3,3,3,3,3,3,3,3,4,4,4,4,4,4,4,4,4,4,4,4,2,2,2,2,2,2,2,2,3,3] + [3,3,3,3,3,3,3,3,4,4,4,4,4,4,4,4,4,4,4,4,2,2,2,2,2,2,2,2,3,3] + [3,3,3,3,3,3,3,3,4,4,4,4,4,4,4,4,4,4,4,4,2,2,2,2,2,2,2,2,3,3]\n",
    "gynesexuals = [5,5,5,5,5,5,5,5,6,6,6,6,6,6,6] + [5,5,5,5,5,5,5,5,6,6,6,6,6,6,6] + [5,5,5,5,5,5,5,5,6,6,6,6,6,6,6] + [5,5,5,5,5,5,5,5,6,6,6,6,6,6,6] + [5,5,5,5,5,5,5,5,6,6,6,6,6,6,6]\n",
    "androsexuals = [1,1,1,1,1,1,1,1,1,1,1,1,1,1,1,0,0,0,0,0,0,0,0,0,0] + [1,1,1,1,1,1,1,1,1,1,1,1,1,1,1,0,0,0,0,0,0,0,0,0,0] + [1,1,1,1,1,1,1,1,1,1,1,1,1,1,1,0,0,0,0,0,0,0,0,0,0] + [1,1,1,1,1,1,1,1,1,1,1,1,1,1,1,0,0,0,0,0,0,0,0,0,0] + [1,1,1,1,1,1,1,1,1,1,1,1,1,1,1,0,0,0,0,0,0,0,0,0,0]\n",
    "\n",
    "mock_data = np.array(pansexuals + bisexuals + gynesexuals + androsexuals)\n",
    "sns.histplot(mock_data)"
   ]
  }
 ],
 "metadata": {
  "kernelspec": {
   "display_name": "env",
   "language": "python",
   "name": "python3"
  },
  "language_info": {
   "codemirror_mode": {
    "name": "ipython",
    "version": 3
   },
   "file_extension": ".py",
   "mimetype": "text/x-python",
   "name": "python",
   "nbconvert_exporter": "python",
   "pygments_lexer": "ipython3",
   "version": "3.12.3"
  }
 },
 "nbformat": 4,
 "nbformat_minor": 2
}
