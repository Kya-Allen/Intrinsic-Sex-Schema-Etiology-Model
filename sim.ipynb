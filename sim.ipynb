{
 "cells": [
  {
   "cell_type": "code",
   "execution_count": 1,
   "metadata": {},
   "outputs": [],
   "source": [
    "import pandas as pd\n",
    "import numpy as np\n",
    "import matplotlib.pyplot as plt\n",
    "import seaborn as sns\n",
    "import scipy as sp\n",
    "from scipy import stats\n",
    "import statsmodels as sm\n",
    "from factor_analyzer import FactorAnalyzer \n",
    "import sum_backend as sim\n",
    "import math"
   ]
  },
  {
   "cell_type": "markdown",
   "metadata": {},
   "source": [
    "Generate Sample"
   ]
  },
  {
   "cell_type": "code",
   "execution_count": 2,
   "metadata": {},
   "outputs": [],
   "source": [
    "male_sample: list[sim.Subject] = []\n",
    "female_sample: list[sim.Subject] = []\n",
    "\n",
    "for i in range(500000):\n",
    "    male_sample.append(sim.Masc())\n",
    "    female_sample.append(sim.Fem())\n",
    "\n",
    "sample = male_sample + female_sample"
   ]
  },
  {
   "cell_type": "markdown",
   "metadata": {},
   "source": [
    "View Sample DataFrame"
   ]
  },
  {
   "cell_type": "code",
   "execution_count": 3,
   "metadata": {},
   "outputs": [
    {
     "data": {
      "text/html": [
       "<div>\n",
       "<style scoped>\n",
       "    .dataframe tbody tr th:only-of-type {\n",
       "        vertical-align: middle;\n",
       "    }\n",
       "\n",
       "    .dataframe tbody tr th {\n",
       "        vertical-align: top;\n",
       "    }\n",
       "\n",
       "    .dataframe thead th {\n",
       "        text-align: right;\n",
       "    }\n",
       "</style>\n",
       "<table border=\"1\" class=\"dataframe\">\n",
       "  <thead>\n",
       "    <tr style=\"text-align: right;\">\n",
       "      <th></th>\n",
       "      <th>natal sex</th>\n",
       "      <th>trans</th>\n",
       "      <th>orientation</th>\n",
       "      <th>orientation label</th>\n",
       "      <th>cross-schematic</th>\n",
       "      <th>latent_differentiation</th>\n",
       "      <th>agp</th>\n",
       "      <th>aap</th>\n",
       "      <th>etii</th>\n",
       "      <th>f1</th>\n",
       "      <th>f2</th>\n",
       "      <th>f3</th>\n",
       "      <th>f4</th>\n",
       "      <th>f5</th>\n",
       "      <th>f6</th>\n",
       "      <th>f7</th>\n",
       "      <th>f8</th>\n",
       "    </tr>\n",
       "  </thead>\n",
       "  <tbody>\n",
       "    <tr>\n",
       "      <th>0</th>\n",
       "      <td>Male</td>\n",
       "      <td>False</td>\n",
       "      <td>3.159584</td>\n",
       "      <td>Straight Male</td>\n",
       "      <td>False</td>\n",
       "      <td>3.934114</td>\n",
       "      <td>4.128466</td>\n",
       "      <td>0.000000</td>\n",
       "      <td>False</td>\n",
       "      <td>1.253612</td>\n",
       "      <td>2.912123</td>\n",
       "      <td>0.917014</td>\n",
       "      <td>0.608914</td>\n",
       "      <td>0.857266</td>\n",
       "      <td>-0.659141</td>\n",
       "      <td>2.629349</td>\n",
       "      <td>-0.025533</td>\n",
       "    </tr>\n",
       "    <tr>\n",
       "      <th>1</th>\n",
       "      <td>Male</td>\n",
       "      <td>False</td>\n",
       "      <td>3.301301</td>\n",
       "      <td>Straight Male</td>\n",
       "      <td>False</td>\n",
       "      <td>5.870701</td>\n",
       "      <td>2.578867</td>\n",
       "      <td>0.000000</td>\n",
       "      <td>False</td>\n",
       "      <td>0.685814</td>\n",
       "      <td>0.775692</td>\n",
       "      <td>1.390563</td>\n",
       "      <td>0.304575</td>\n",
       "      <td>0.805966</td>\n",
       "      <td>-0.008489</td>\n",
       "      <td>2.005761</td>\n",
       "      <td>-1.200985</td>\n",
       "    </tr>\n",
       "    <tr>\n",
       "      <th>2</th>\n",
       "      <td>Male</td>\n",
       "      <td>False</td>\n",
       "      <td>1.598600</td>\n",
       "      <td>Straight Male</td>\n",
       "      <td>False</td>\n",
       "      <td>2.316813</td>\n",
       "      <td>3.155990</td>\n",
       "      <td>0.000000</td>\n",
       "      <td>False</td>\n",
       "      <td>0.759986</td>\n",
       "      <td>1.227312</td>\n",
       "      <td>0.292935</td>\n",
       "      <td>1.468078</td>\n",
       "      <td>0.847465</td>\n",
       "      <td>-0.092051</td>\n",
       "      <td>-0.005234</td>\n",
       "      <td>-1.088383</td>\n",
       "    </tr>\n",
       "    <tr>\n",
       "      <th>3</th>\n",
       "      <td>Male</td>\n",
       "      <td>False</td>\n",
       "      <td>5.260598</td>\n",
       "      <td>Straight Male</td>\n",
       "      <td>False</td>\n",
       "      <td>7.522631</td>\n",
       "      <td>1.131042</td>\n",
       "      <td>0.000000</td>\n",
       "      <td>False</td>\n",
       "      <td>0.781663</td>\n",
       "      <td>3.339083</td>\n",
       "      <td>0.173658</td>\n",
       "      <td>0.632274</td>\n",
       "      <td>1.264307</td>\n",
       "      <td>2.444529</td>\n",
       "      <td>0.542468</td>\n",
       "      <td>2.022665</td>\n",
       "    </tr>\n",
       "    <tr>\n",
       "      <th>4</th>\n",
       "      <td>Male</td>\n",
       "      <td>False</td>\n",
       "      <td>1.312940</td>\n",
       "      <td>Straight Male</td>\n",
       "      <td>False</td>\n",
       "      <td>3.980443</td>\n",
       "      <td>0.494817</td>\n",
       "      <td>0.000000</td>\n",
       "      <td>False</td>\n",
       "      <td>1.000487</td>\n",
       "      <td>-0.068214</td>\n",
       "      <td>0.726015</td>\n",
       "      <td>0.442497</td>\n",
       "      <td>1.405805</td>\n",
       "      <td>-1.036968</td>\n",
       "      <td>0.876894</td>\n",
       "      <td>2.665974</td>\n",
       "    </tr>\n",
       "    <tr>\n",
       "      <th>...</th>\n",
       "      <td>...</td>\n",
       "      <td>...</td>\n",
       "      <td>...</td>\n",
       "      <td>...</td>\n",
       "      <td>...</td>\n",
       "      <td>...</td>\n",
       "      <td>...</td>\n",
       "      <td>...</td>\n",
       "      <td>...</td>\n",
       "      <td>...</td>\n",
       "      <td>...</td>\n",
       "      <td>...</td>\n",
       "      <td>...</td>\n",
       "      <td>...</td>\n",
       "      <td>...</td>\n",
       "      <td>...</td>\n",
       "      <td>...</td>\n",
       "    </tr>\n",
       "    <tr>\n",
       "      <th>999995</th>\n",
       "      <td>Female</td>\n",
       "      <td>True</td>\n",
       "      <td>1.520301</td>\n",
       "      <td>Gay Female</td>\n",
       "      <td>True</td>\n",
       "      <td>1.172782</td>\n",
       "      <td>1.185567</td>\n",
       "      <td>0.000000</td>\n",
       "      <td>False</td>\n",
       "      <td>-0.364106</td>\n",
       "      <td>0.350370</td>\n",
       "      <td>0.229249</td>\n",
       "      <td>0.791561</td>\n",
       "      <td>0.347975</td>\n",
       "      <td>-0.709264</td>\n",
       "      <td>0.354680</td>\n",
       "      <td>0.759146</td>\n",
       "    </tr>\n",
       "    <tr>\n",
       "      <th>999996</th>\n",
       "      <td>Female</td>\n",
       "      <td>False</td>\n",
       "      <td>-1.118579</td>\n",
       "      <td>Straight Female</td>\n",
       "      <td>False</td>\n",
       "      <td>-1.060723</td>\n",
       "      <td>3.179343</td>\n",
       "      <td>3.439840</td>\n",
       "      <td>False</td>\n",
       "      <td>-0.828019</td>\n",
       "      <td>-1.498493</td>\n",
       "      <td>1.517620</td>\n",
       "      <td>1.545109</td>\n",
       "      <td>-0.136488</td>\n",
       "      <td>-1.247835</td>\n",
       "      <td>0.828320</td>\n",
       "      <td>0.522453</td>\n",
       "    </tr>\n",
       "    <tr>\n",
       "      <th>999997</th>\n",
       "      <td>Female</td>\n",
       "      <td>False</td>\n",
       "      <td>-1.959985</td>\n",
       "      <td>Straight Female</td>\n",
       "      <td>False</td>\n",
       "      <td>-3.216259</td>\n",
       "      <td>0.000000</td>\n",
       "      <td>1.455094</td>\n",
       "      <td>False</td>\n",
       "      <td>-0.130174</td>\n",
       "      <td>-0.990681</td>\n",
       "      <td>-0.506821</td>\n",
       "      <td>-1.061359</td>\n",
       "      <td>1.503106</td>\n",
       "      <td>0.604301</td>\n",
       "      <td>-1.901752</td>\n",
       "      <td>2.247668</td>\n",
       "    </tr>\n",
       "    <tr>\n",
       "      <th>999998</th>\n",
       "      <td>Female</td>\n",
       "      <td>False</td>\n",
       "      <td>-2.838861</td>\n",
       "      <td>Straight Female</td>\n",
       "      <td>False</td>\n",
       "      <td>-3.146412</td>\n",
       "      <td>0.000000</td>\n",
       "      <td>1.555441</td>\n",
       "      <td>False</td>\n",
       "      <td>-0.116098</td>\n",
       "      <td>0.190088</td>\n",
       "      <td>0.206567</td>\n",
       "      <td>0.065099</td>\n",
       "      <td>-0.865872</td>\n",
       "      <td>-0.798582</td>\n",
       "      <td>1.702697</td>\n",
       "      <td>1.043074</td>\n",
       "    </tr>\n",
       "    <tr>\n",
       "      <th>999999</th>\n",
       "      <td>Female</td>\n",
       "      <td>False</td>\n",
       "      <td>-3.305943</td>\n",
       "      <td>Straight Female</td>\n",
       "      <td>False</td>\n",
       "      <td>-6.224618</td>\n",
       "      <td>0.000000</td>\n",
       "      <td>7.698448</td>\n",
       "      <td>False</td>\n",
       "      <td>-0.529129</td>\n",
       "      <td>0.002560</td>\n",
       "      <td>-1.619053</td>\n",
       "      <td>-0.756215</td>\n",
       "      <td>0.588908</td>\n",
       "      <td>-0.524033</td>\n",
       "      <td>-1.343020</td>\n",
       "      <td>-1.380466</td>\n",
       "    </tr>\n",
       "  </tbody>\n",
       "</table>\n",
       "<p>1000000 rows × 17 columns</p>\n",
       "</div>"
      ],
      "text/plain": [
       "       natal sex  trans  orientation orientation label  cross-schematic  \\\n",
       "0           Male  False     3.159584     Straight Male            False   \n",
       "1           Male  False     3.301301     Straight Male            False   \n",
       "2           Male  False     1.598600     Straight Male            False   \n",
       "3           Male  False     5.260598     Straight Male            False   \n",
       "4           Male  False     1.312940     Straight Male            False   \n",
       "...          ...    ...          ...               ...              ...   \n",
       "999995    Female   True     1.520301        Gay Female             True   \n",
       "999996    Female  False    -1.118579   Straight Female            False   \n",
       "999997    Female  False    -1.959985   Straight Female            False   \n",
       "999998    Female  False    -2.838861   Straight Female            False   \n",
       "999999    Female  False    -3.305943   Straight Female            False   \n",
       "\n",
       "        latent_differentiation       agp       aap   etii        f1        f2  \\\n",
       "0                     3.934114  4.128466  0.000000  False  1.253612  2.912123   \n",
       "1                     5.870701  2.578867  0.000000  False  0.685814  0.775692   \n",
       "2                     2.316813  3.155990  0.000000  False  0.759986  1.227312   \n",
       "3                     7.522631  1.131042  0.000000  False  0.781663  3.339083   \n",
       "4                     3.980443  0.494817  0.000000  False  1.000487 -0.068214   \n",
       "...                        ...       ...       ...    ...       ...       ...   \n",
       "999995                1.172782  1.185567  0.000000  False -0.364106  0.350370   \n",
       "999996               -1.060723  3.179343  3.439840  False -0.828019 -1.498493   \n",
       "999997               -3.216259  0.000000  1.455094  False -0.130174 -0.990681   \n",
       "999998               -3.146412  0.000000  1.555441  False -0.116098  0.190088   \n",
       "999999               -6.224618  0.000000  7.698448  False -0.529129  0.002560   \n",
       "\n",
       "              f3        f4        f5        f6        f7        f8  \n",
       "0       0.917014  0.608914  0.857266 -0.659141  2.629349 -0.025533  \n",
       "1       1.390563  0.304575  0.805966 -0.008489  2.005761 -1.200985  \n",
       "2       0.292935  1.468078  0.847465 -0.092051 -0.005234 -1.088383  \n",
       "3       0.173658  0.632274  1.264307  2.444529  0.542468  2.022665  \n",
       "4       0.726015  0.442497  1.405805 -1.036968  0.876894  2.665974  \n",
       "...          ...       ...       ...       ...       ...       ...  \n",
       "999995  0.229249  0.791561  0.347975 -0.709264  0.354680  0.759146  \n",
       "999996  1.517620  1.545109 -0.136488 -1.247835  0.828320  0.522453  \n",
       "999997 -0.506821 -1.061359  1.503106  0.604301 -1.901752  2.247668  \n",
       "999998  0.206567  0.065099 -0.865872 -0.798582  1.702697  1.043074  \n",
       "999999 -1.619053 -0.756215  0.588908 -0.524033 -1.343020 -1.380466  \n",
       "\n",
       "[1000000 rows x 17 columns]"
      ]
     },
     "execution_count": 3,
     "metadata": {},
     "output_type": "execute_result"
    }
   ],
   "source": [
    "sample_df = pd.DataFrame.from_records([subjects.to_dict() for subjects in sample])\n",
    "sample_df"
   ]
  },
  {
   "cell_type": "markdown",
   "metadata": {},
   "source": [
    "Display proportions of sexual orientations in simulated dataset"
   ]
  },
  {
   "cell_type": "code",
   "execution_count": 4,
   "metadata": {},
   "outputs": [
    {
     "name": "stdout",
     "output_type": "stream",
     "text": [
      "percent of ppl trans: 1.1242%\n",
      "percent of men gay: 2.0452000000000004%\n",
      "percent women lesbian: 2.0268%\n",
      "percent women Bi: 12.110999999999999%\n"
     ]
    }
   ],
   "source": [
    "p_trans = len(sample_df[sample_df['cross-schematic'] == True]) / len(sample_df)\n",
    "p_gay = len(sample_df[sample_df['orientation label'] == 'Gay Male']) / len(sample_df[sample_df['natal sex'] == 'Male'])\n",
    "p_lesbian = len(sample_df[sample_df['orientation label'] == 'Gay Female']) / len(sample_df[sample_df['natal sex'] == 'Female'])\n",
    "p_bigirl = len(sample_df[sample_df['orientation label'] == 'Bi Female']) / len(sample_df[sample_df['natal sex'] == 'Female'])\n",
    "\n",
    "print(f'percent of ppl trans: {p_trans*100}%')\n",
    "print(f'percent of men gay: {p_gay*100}%')\n",
    "print(f'percent women lesbian: {p_lesbian*100}%')\n",
    "print(f'percent women Bi: {p_bigirl*100}%')"
   ]
  },
  {
   "cell_type": "markdown",
   "metadata": {},
   "source": [
    "Cohen's D Effect Size function"
   ]
  },
  {
   "cell_type": "code",
   "execution_count": 10,
   "metadata": {},
   "outputs": [],
   "source": [
    "def cohen(sample_1, sample_2):\n",
    "    term_1 = sample_1.mean() - sample_2.mean()\n",
    "    term_2 = math.sqrt((sample_1.std() ** 2) + (sample_2.std() ** 2) / 2)\n",
    "    return abs(term_1 / term_2)"
   ]
  },
  {
   "cell_type": "code",
   "execution_count": 6,
   "metadata": {},
   "outputs": [
    {
     "name": "stdout",
     "output_type": "stream",
     "text": [
      "0.882691933972219\n"
     ]
    },
    {
     "data": {
      "text/plain": [
       "<Axes: xlabel='f2', ylabel='Count'>"
      ]
     },
     "execution_count": 6,
     "metadata": {},
     "output_type": "execute_result"
    },
    {
     "data": {
      "image/png": "[encoded data removed]",
      "text/plain": [
       "<Figure size 640x480 with 1 Axes>"
      ]
     },
     "metadata": {},
     "output_type": "display_data"
    }
   ],
   "source": [
    "#data = sample_df[sample_df['trans'] == True][sample_df['natal sex'] == 'Male']\n",
    "d = cohen(sample_df[sample_df['natal sex'] == 'Male']['f2'], sample_df[sample_df['natal sex'] == 'Female']['f2'])\n",
    "print(d)\n",
    "sns.histplot(sample_df, x='f2', hue='natal sex')"
   ]
  },
  {
   "cell_type": "code",
   "execution_count": 7,
   "metadata": {},
   "outputs": [
    {
     "data": {
      "text/plain": [
       "<Axes: xlabel='f2', ylabel='Count'>"
      ]
     },
     "execution_count": 7,
     "metadata": {},
     "output_type": "execute_result"
    },
    {
     "data": {
      "image/png": "[encoded data removed]",
      "text/plain": [
       "<Figure size 640x480 with 1 Axes>"
      ]
     },
     "metadata": {},
     "output_type": "display_data"
    }
   ],
   "source": [
    "natal_males = sample_df[sample_df['natal sex'] == 'Male']\n",
    "sns.histplot(natal_males, x='f2', hue='trans')"
   ]
  },
  {
   "cell_type": "code",
   "execution_count": 12,
   "metadata": {},
   "outputs": [
    {
     "data": {
      "text/plain": [
       "(np.float64(0.3746764170607533), np.float64(0.14615622694796784))"
      ]
     },
     "execution_count": 12,
     "metadata": {},
     "output_type": "execute_result"
    },
    {
     "data": {
      "image/png": "[encoded data removed]",
      "text/plain": [
       "<Figure size 640x480 with 1 Axes>"
      ]
     },
     "metadata": {},
     "output_type": "display_data"
    }
   ],
   "source": [
    "sns.histplot(natal_males[natal_males['trans'] == True], x='f2', hue='orientation label')\n",
    "\n",
    "d1 = cohen(natal_males[natal_males['trans'] == True].f2, natal_males[natal_males['trans'] == False].f2)\n",
    "d2 = cohen(natal_males[(natal_males['trans'] == True) & (natal_males['orientation label'] == 'Straight Male')].f2, natal_males[natal_males['trans'] == False].f2)\n",
    "d1, d2"
   ]
  }
 ],
 "metadata": {
  "kernelspec": {
   "display_name": ".venv",
   "language": "python",
   "name": "python3"
  },
  "language_info": {
   "codemirror_mode": {
    "name": "ipython",
    "version": 3
   },
   "file_extension": ".py",
   "mimetype": "text/x-python",
   "name": "python",
   "nbconvert_exporter": "python",
   "pygments_lexer": "ipython3",
   "version": "3.12.6"
  }
 },
 "nbformat": 4,
 "nbformat_minor": 2
}
